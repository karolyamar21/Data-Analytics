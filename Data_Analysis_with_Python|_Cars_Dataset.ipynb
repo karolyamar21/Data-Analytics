{
  "metadata": {
    "kernelspec": {
      "language": "python",
      "display_name": "Python 3",
      "name": "python3"
    },
    "language_info": {
      "name": "python",
      "version": "3.10.13",
      "mimetype": "text/x-python",
      "codemirror_mode": {
        "name": "ipython",
        "version": 3
      },
      "pygments_lexer": "ipython3",
      "nbconvert_exporter": "python",
      "file_extension": ".py"
    },
    "kaggle": {
      "accelerator": "none",
      "dataSources": [
        {
          "sourceId": 8053524,
          "sourceType": "datasetVersion",
          "datasetId": 4749669
        }
      ],
      "dockerImageVersionId": 30673,
      "isInternetEnabled": false,
      "language": "python",
      "sourceType": "notebook",
      "isGpuEnabled": false
    },
    "colab": {
      "name": "Data Analysis with Python| Cars Dataset",
      "provenance": [],
      "include_colab_link": true
    }
  },
  "nbformat_minor": 0,
  "nbformat": 4,
  "cells": [
    {
      "cell_type": "markdown",
      "metadata": {
        "id": "view-in-github",
        "colab_type": "text"
      },
      "source": [
        "<a href=\"https://colab.research.google.com/github/karolyamar21/Data-Analytics/blob/main/Data_Analysis_with_Python%7C_Cars_Dataset.ipynb\" target=\"_parent\"><img src=\"https://colab.research.google.com/assets/colab-badge.svg\" alt=\"Open In Colab\"/></a>"
      ]
    },
    {
      "cell_type": "markdown",
      "source": [
        "# Cars Dataset"
      ],
      "metadata": {
        "id": "hJi5hBNR2sUv"
      }
    },
    {
      "cell_type": "markdown",
      "source": [
        "![](https://www.freewebheaders.com/wp-content/gallery/cars/silver-porsche-car-on-purple-background-header.jpg)"
      ],
      "metadata": {
        "id": "fciaxVHn2sUw"
      }
    },
    {
      "cell_type": "markdown",
      "source": [
        "Here's a data of different cars with their specifications\n",
        "\n",
        "Note: We are using Pandas DataFrame"
      ],
      "metadata": {
        "id": "APJ2pnST2sUx"
      }
    },
    {
      "cell_type": "markdown",
      "source": [
        "### Data Cleaning"
      ],
      "metadata": {
        "id": "lBAt9w8M2sUx"
      }
    },
    {
      "cell_type": "code",
      "source": [
        "import pandas as pd"
      ],
      "metadata": {
        "execution": {
          "iopub.status.busy": "2024-04-07T11:24:19.109095Z",
          "iopub.execute_input": "2024-04-07T11:24:19.109475Z",
          "iopub.status.idle": "2024-04-07T11:24:20.480654Z",
          "shell.execute_reply.started": "2024-04-07T11:24:19.109443Z",
          "shell.execute_reply": "2024-04-07T11:24:20.47942Z"
        },
        "trusted": true,
        "id": "6OV_pZfJ2sUx"
      },
      "execution_count": null,
      "outputs": []
    },
    {
      "cell_type": "code",
      "source": [
        "car = pd.read_csv('../input/carsdataset2024/Carsdataset2024.csv')"
      ],
      "metadata": {
        "trusted": true,
        "id": "k7zqIaxO2sUy"
      },
      "execution_count": null,
      "outputs": []
    },
    {
      "cell_type": "code",
      "source": [
        "car.head()"
      ],
      "metadata": {
        "trusted": true,
        "id": "j4CXxnf-2sUy"
      },
      "execution_count": null,
      "outputs": []
    },
    {
      "cell_type": "code",
      "source": [
        "car.shape"
      ],
      "metadata": {
        "trusted": true,
        "id": "3ho1D7432sUy"
      },
      "execution_count": null,
      "outputs": []
    },
    {
      "cell_type": "markdown",
      "source": [
        "1. Find a Null Value in the dataset. If there is any null value in any column, then fill it with the mean of that column"
      ],
      "metadata": {
        "id": "GsBKTAh-2sUy"
      }
    },
    {
      "cell_type": "code",
      "source": [
        "car.isnull().sum()"
      ],
      "metadata": {
        "trusted": true,
        "id": "GaTanm172sUz"
      },
      "execution_count": null,
      "outputs": []
    },
    {
      "cell_type": "code",
      "source": [
        "car['Cylinders'].fillna(car['Cylinders'].mean())"
      ],
      "metadata": {
        "trusted": true,
        "id": "HLsFmgQ42sUz"
      },
      "execution_count": null,
      "outputs": []
    },
    {
      "cell_type": "code",
      "source": [
        "car.isnull().sum()"
      ],
      "metadata": {
        "trusted": true,
        "id": "EFC6Wy0H2sUz"
      },
      "execution_count": null,
      "outputs": []
    },
    {
      "cell_type": "code",
      "source": [
        "car.dropna(inplace = True)\n",
        "print(car.to_string())"
      ],
      "metadata": {
        "trusted": true,
        "id": "WRo8XeRN2sUz"
      },
      "execution_count": null,
      "outputs": []
    },
    {
      "cell_type": "code",
      "source": [
        "car"
      ],
      "metadata": {
        "trusted": true,
        "id": "Z5AgH_zx2sUz"
      },
      "execution_count": null,
      "outputs": []
    },
    {
      "cell_type": "code",
      "source": [
        "car.isnull().sum()"
      ],
      "metadata": {
        "trusted": true,
        "id": "sGvg5Vlg2sU0"
      },
      "execution_count": null,
      "outputs": []
    },
    {
      "cell_type": "markdown",
      "source": [
        "2. Question(Based on value Counts)\n",
        "\n",
        "Check what are the different types of Make are there in our dataset. And, what is the count(occurence) of each Make in the data?"
      ],
      "metadata": {
        "id": "NDhfV5-32sU0"
      }
    },
    {
      "cell_type": "code",
      "source": [
        "car.head(2)"
      ],
      "metadata": {
        "trusted": true,
        "id": "h4zarYUs2sU0"
      },
      "execution_count": null,
      "outputs": []
    },
    {
      "cell_type": "code",
      "source": [
        "car['Make'].value_counts()"
      ],
      "metadata": {
        "trusted": true,
        "id": "sGSoOfoy2sU0"
      },
      "execution_count": null,
      "outputs": []
    },
    {
      "cell_type": "markdown",
      "source": [
        "3. Instruction(Filtering)\n",
        "\n",
        "Show all the records where Origin is asia or Europe"
      ],
      "metadata": {
        "id": "t4R3uRgh2sU0"
      }
    },
    {
      "cell_type": "code",
      "source": [
        "car[car['Origin'].isin(['Asia','Europe'])]"
      ],
      "metadata": {
        "trusted": true,
        "id": "q-OaxpAc2sU0"
      },
      "execution_count": null,
      "outputs": []
    },
    {
      "cell_type": "markdown",
      "source": [
        "4. Remove all the records where Weight is above 4000"
      ],
      "metadata": {
        "id": "Fx8Tcnk22sU0"
      }
    },
    {
      "cell_type": "code",
      "source": [
        "car[~(car['Weight']>4000)]"
      ],
      "metadata": {
        "trusted": true,
        "id": "D6goq6XA2sU0"
      },
      "execution_count": null,
      "outputs": []
    },
    {
      "cell_type": "code",
      "source": [
        "car.head(2)"
      ],
      "metadata": {
        "trusted": true,
        "id": "k2NzlXWn2sU0"
      },
      "execution_count": null,
      "outputs": []
    },
    {
      "cell_type": "markdown",
      "source": [
        "Applying Function on a column\n",
        "\n",
        "Increase of the values of MPG_City column by 3"
      ],
      "metadata": {
        "id": "H_RGsyPv2sU0"
      }
    },
    {
      "cell_type": "code",
      "source": [
        "car['MPG_City'] = car['MPG_City'].apply(lambda x:x+3)"
      ],
      "metadata": {
        "trusted": true,
        "id": "ISVw8xdG2sU1"
      },
      "execution_count": null,
      "outputs": []
    },
    {
      "cell_type": "code",
      "source": [
        "car"
      ],
      "metadata": {
        "trusted": true,
        "id": "r3S5fYiQ2sU1"
      },
      "execution_count": null,
      "outputs": []
    },
    {
      "cell_type": "markdown",
      "source": [
        "Training Source: https://www.youtube.com/@data_science_lovers"
      ],
      "metadata": {
        "id": "LshJ8id72sU1"
      }
    }
  ]
}